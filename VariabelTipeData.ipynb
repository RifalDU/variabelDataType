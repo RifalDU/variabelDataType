{
 "cells": [
  {
   "cell_type": "markdown",
   "id": "4744128d",
   "metadata": {},
   "source": [
    "<h1>Belajar Variabel dan Tipe Data</h1><hr>\n",
    "Tipe Data di Python yaitu <b>Integer, Float, String, Complex</b>"
   ]
  },
  {
   "cell_type": "code",
   "execution_count": null,
   "id": "682cc784",
   "metadata": {},
   "outputs": [],
   "source": [
    "data_integer = 100\n",
    "data_integer\n",
    "print(data_integer)\n",
    "print(type(data_integer))"
   ]
  },
  {
   "cell_type": "code",
   "execution_count": null,
   "id": "855a3626",
   "metadata": {},
   "outputs": [],
   "source": [
    "data_float = 10.5\n",
    "print(data_float)\n",
    "print(type(data_float))"
   ]
  },
  {
   "cell_type": "code",
   "execution_count": null,
   "id": "27778c9f",
   "metadata": {},
   "outputs": [],
   "source": [
    "data_boolean = True\n",
    "print(data_boolean)\n",
    "print(type(data_boolean))"
   ]
  },
  {
   "cell_type": "code",
   "execution_count": 21,
   "id": "8f7d7873",
   "metadata": {},
   "outputs": [
    {
     "name": "stdout",
     "output_type": "stream",
     "text": [
      "50\n",
      "<class 'str'>\n"
     ]
    }
   ],
   "source": [
    "data_string = \"50\"\n",
    "print(data_string)\n",
    "print(type(data_string))"
   ]
  },
  {
   "cell_type": "code",
   "execution_count": null,
   "id": "31046a33",
   "metadata": {},
   "outputs": [],
   "source": [
    "data_complex = complex(5,6)\n",
    "print(data_complex)\n",
    "print(type(data_complex))"
   ]
  },
  {
   "cell_type": "markdown",
   "id": "7cd1b659",
   "metadata": {},
   "source": [
    "<h2>Casting</h2><hr>\n",
    "<b><font color=\"blue\">Casting</font><b> adalah proses melakukan konversi tipe data <br>\n",
    "<ol>\n",
    "    <li>Sintak Casting menggunakan (tipe data)</li>\n",
    "    <li>Casting dapat dilakukan untuk semua tipe data</li>\n",
    "</ol>"
   ]
  },
  {
   "cell_type": "code",
   "execution_count": null,
   "id": "8dc4897a",
   "metadata": {},
   "outputs": [],
   "source": [
    "int_to_string = str(data_integer)\n",
    "int_to_float = float(data_integer)\n",
    "\n",
    "print(int_to_string)\n",
    "print(int_to_float)\n",
    "\n",
    "print(type(int_to_string))\n",
    "print(type(int_to_float))"
   ]
  },
  {
   "cell_type": "code",
   "execution_count": 16,
   "id": "5b519fc1",
   "metadata": {},
   "outputs": [
    {
     "name": "stdout",
     "output_type": "stream",
     "text": [
      "True\n",
      "10.5\n",
      "(10.5+0j)\n",
      "<class 'bool'>\n",
      "<class 'str'>\n",
      "<class 'complex'>\n"
     ]
    }
   ],
   "source": [
    "int_to_bool = bool(data_float)\n",
    "int_to_string = str(data_float)\n",
    "int_to_integer = int (data_float)\n",
    "\n",
    "print(int_to_bool)\n",
    "print(int_to_string)\n",
    "print(int_to_integer)\n",
    "\n",
    "print(type(int_to_bool))\n",
    "print(type(int_to_string))\n",
    "print(type(int_to_integer))"
   ]
  },
  {
   "cell_type": "code",
   "execution_count": 23,
   "id": "2f750d88",
   "metadata": {},
   "outputs": [
    {
     "name": "stdout",
     "output_type": "stream",
     "text": [
      "True\n",
      "1\n",
      "1.0\n",
      "<class 'str'>\n",
      "<class 'int'>\n",
      "<class 'float'>\n"
     ]
    }
   ],
   "source": [
    "int_to_string = str(data_boolean)\n",
    "int_to_integer = int(data_boolean)\n",
    "int_to_float = float(data_boolean)\n",
    "\n",
    "print(int_to_string)\n",
    "print(int_to_integer)\n",
    "print(int_to_float)\n",
    "\n",
    "print(type(int_to_string))\n",
    "print(type(int_to_integer))\n",
    "print(type(int_to_float))"
   ]
  },
  {
   "cell_type": "code",
   "execution_count": 22,
   "id": "ab66c957",
   "metadata": {},
   "outputs": [
    {
     "name": "stdout",
     "output_type": "stream",
     "text": [
      "True\n",
      "50.0\n",
      "50\n",
      "<class 'bool'>\n",
      "<class 'float'>\n",
      "<class 'int'>\n"
     ]
    }
   ],
   "source": [
    "int_to_bool = bool(data_string)\n",
    "int_to_float = float(data_string)\n",
    "int_to_integer = int(data_string)\n",
    "\n",
    "print(int_to_bool)\n",
    "print(int_to_float)\n",
    "print(int_to_integer)\n",
    "\n",
    "print(type(int_to_bool))\n",
    "print(type(int_to_float))\n",
    "print(type(int_to_integer))"
   ]
  }
 ],
 "metadata": {
  "kernelspec": {
   "display_name": "Python 3 (ipykernel)",
   "language": "python",
   "name": "python3"
  },
  "language_info": {
   "codemirror_mode": {
    "name": "ipython",
    "version": 3
   },
   "file_extension": ".py",
   "mimetype": "text/x-python",
   "name": "python",
   "nbconvert_exporter": "python",
   "pygments_lexer": "ipython3",
   "version": "3.9.12"
  }
 },
 "nbformat": 4,
 "nbformat_minor": 5
}
